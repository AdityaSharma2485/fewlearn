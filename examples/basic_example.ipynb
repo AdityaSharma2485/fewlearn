{
 "cells": [
  {
   "cell_type": "markdown",
   "id": "48dce39d",
   "metadata": {},
   "source": [
    "# FewLearn Basic Example\n",
    "\n",
    "This notebook demonstrates how to:\n",
    "1. Initialize the MINDS framework\n",
    "2. Add different backbone models\n",
    "3. Evaluate them in parallel on the Omniglot dataset\n",
    "4. Visualize and compare results\n",
    "\n",
    "First, let's import the required packages:"
   ]
  },
  {
   "cell_type": "code",
   "execution_count": 1,
   "id": "d6c7e9f0",
   "metadata": {},
   "outputs": [
    {
     "data": {
      "text/plain": [
       "<torch._C.Generator at 0x2c086c76170>"
      ]
     },
     "execution_count": 1,
     "metadata": {},
     "output_type": "execute_result"
    }
   ],
   "source": [
    "import torch\n",
    "import matplotlib.pyplot as plt\n",
    "from torchvision.datasets import Omniglot\n",
    "from torchvision import transforms\n",
    "import os\n",
    "from tabulate import tabulate\n",
    "import pandas as pd\n",
    "\n",
    "from fewlearn import MINDS, PrototypicalNetworks, EpisodicProtocol, Evaluator\n",
    "from fewlearn.visualization import plot_performance_comparison, plot_prototype_embeddings\n",
    "\n",
    "# Set random seed for reproducibility\n",
    "torch.manual_seed(42)"
   ]
  },
  {
   "cell_type": "markdown",
   "id": "7462f5a7",
   "metadata": {},
   "source": [
    "## 1. Initialize MINDS Framework\n",
    "\n",
    "First, we'll create an instance of the MINDS framework:"
   ]
  },
  {
   "cell_type": "code",
   "execution_count": 2,
   "id": "9e45e9da",
   "metadata": {},
   "outputs": [
    {
     "name": "stdout",
     "output_type": "stream",
     "text": [
      "Using GPU: NVIDIA GeForce GTX 1050\n",
      "MINDS framework initialized successfully on cuda\n",
      "[OK] MINDS framework initialized\n"
     ]
    }
   ],
   "source": [
    "minds = MINDS()\n",
    "print(\"[OK] MINDS framework initialized\")"
   ]
  },
  {
   "cell_type": "markdown",
   "id": "13179665",
   "metadata": {},
   "source": [
    "## 2. Add Backbone Models\n",
    "\n",
    "We'll add three different backbone models to evaluate:"
   ]
  },
  {
   "cell_type": "code",
   "execution_count": 3,
   "id": "d6df9f8a",
   "metadata": {},
   "outputs": [
    {
     "name": "stdout",
     "output_type": "stream",
     "text": [
      "Added model 'resnet18' successfully on cuda\n",
      "[OK] Added resnet18 model\n",
      "Added model 'mobilenet_v2' successfully on cuda\n",
      "[OK] Added mobilenet_v2 model\n",
      "Added model 'efficientnet_b0' successfully on cuda\n",
      "[OK] Added efficientnet_b0 model\n"
     ]
    }
   ],
   "source": [
    "# Add different backbone models\n",
    "backbones = [\"resnet18\", \"mobilenet_v2\", \"efficientnet_b0\"]\n",
    "\n",
    "for backbone in backbones:\n",
    "    minds.add_model(backbone, PrototypicalNetworks(backbone=backbone))\n",
    "    print(f\"[OK] Added {backbone} model\")"
   ]
  },
  {
   "cell_type": "markdown",
   "id": "cb7e5e21",
   "metadata": {},
   "source": [
    "## 3. Prepare Dataset\n",
    "\n",
    "We'll use the Omniglot dataset, which is commonly used for few-shot learning:"
   ]
  },
  {
   "cell_type": "code",
   "execution_count": 4,
   "id": "02428d52",
   "metadata": {},
   "outputs": [
    {
     "name": "stdout",
     "output_type": "stream",
     "text": [
      "Files already downloaded and verified\n",
      "[OK] Loaded Omniglot dataset with 19280 images\n"
     ]
    }
   ],
   "source": [
    "# Create data directory\n",
    "os.makedirs('./data', exist_ok=True)\n",
    "\n",
    "# Define image transformations\n",
    "transform = transforms.Compose([\n",
    "    transforms.Resize((84, 84)),\n",
    "    transforms.Grayscale(num_output_channels=3),  # Convert grayscale to RGB\n",
    "    transforms.ToTensor(),\n",
    "    transforms.Normalize((0.485, 0.456, 0.406), (0.229, 0.224, 0.225))\n",
    "])\n",
    "\n",
    "# Load Omniglot dataset\n",
    "dataset = Omniglot(root='./data', download=True, transform=transform)\n",
    "print(f\"[OK] Loaded Omniglot dataset with {len(dataset)} images\")"
   ]
  },
  {
   "cell_type": "markdown",
   "id": "3892282c",
   "metadata": {},
   "source": [
    "## 4. Setup Evaluation Protocol\n",
    "\n",
    "We'll create a 5-way 1-shot evaluation protocol with 15 query samples per class:"
   ]
  },
  {
   "cell_type": "code",
   "execution_count": 5,
   "id": "f914811b",
   "metadata": {},
   "outputs": [
    {
     "name": "stdout",
     "output_type": "stream",
     "text": [
      "[OK] Created evaluation protocol and evaluator\n"
     ]
    }
   ],
   "source": [
    "# Create evaluation protocol\n",
    "protocol = EpisodicProtocol(\n",
    "    n_way=5,      # Number of classes per episode\n",
    "    n_shot=5,     # Number of support samples per class\n",
    "    n_query=10,   # Number of query samples per class\n",
    "    episodes=100   # Number of episodes to evaluate\n",
    ")\n",
    "\n",
    "# Create evaluator\n",
    "evaluator = Evaluator(\n",
    "    protocol=protocol,\n",
    "    metrics=[\"accuracy\", \"f1\"],\n",
    "    parallel=True  # Enable parallel evaluation\n",
    ")\n",
    "\n",
    "print(\"[OK] Created evaluation protocol and evaluator\")"
   ]
  },
  {
   "cell_type": "markdown",
   "id": "dccea554",
   "metadata": {},
   "source": [
    "## 5. Run Evaluation\n",
    "\n",
    "Now let's evaluate all models in parallel:"
   ]
  },
  {
   "cell_type": "code",
   "execution_count": 6,
   "id": "123aacdd",
   "metadata": {},
   "outputs": [
    {
     "name": "stdout",
     "output_type": "stream",
     "text": [
      "Evaluation progress: 100.0%\n",
      "[OK] Evaluation complete!\n"
     ]
    }
   ],
   "source": [
    "from IPython.display import clear_output\n",
    "\n",
    "def progress_callback(progress):\n",
    "    clear_output(wait=True)\n",
    "    print(f\"Evaluation progress: {progress:.1%}\")\n",
    "\n",
    "results = evaluator.evaluate(\n",
    "    models=minds.models,\n",
    "    dataset=dataset,\n",
    "    progress_callback=progress_callback\n",
    ")\n",
    "\n",
    "print(\"[OK] Evaluation complete!\")"
   ]
  },
  {
   "cell_type": "markdown",
   "id": "4c51e6a7",
   "metadata": {},
   "source": [
    "## 6. Results Summary\n",
    "\n",
    "Let's display the results in a nicely formatted table:"
   ]
  },
  {
   "cell_type": "code",
   "execution_count": 7,
   "id": "339876cf",
   "metadata": {},
   "outputs": [
    {
     "name": "stdout",
     "output_type": "stream",
     "text": [
      "╒════════════╤═══════╤═════════════════╤════════════════╤════════════════╤════════════════╤═══════════╤══════════╤══════════╤══════════╤═══════════════════╕\n",
      "│   accuracy │    f1 │   accuracy_mean │   accuracy_std │   accuracy_min │   accuracy_max │   f1_mean │   f1_std │   f1_min │   f1_max │   evaluation_time │\n",
      "╞════════════╪═══════╪═════════════════╪════════════════╪════════════════╪════════════════╪═══════════╪══════════╪══════════╪══════════╪═══════════════════╡\n",
      "│      0.925 │ 0.925 │           0.925 │          0.054 │           0.76 │              1 │     0.925 │    0.054 │    0.765 │        1 │             77.54 │\n",
      "├────────────┼───────┼─────────────────┼────────────────┼────────────────┼────────────────┼───────────┼──────────┼──────────┼──────────┼───────────────────┤\n",
      "│      0.933 │ 0.933 │           0.933 │          0.046 │           0.76 │              1 │     0.933 │    0.047 │    0.758 │        1 │             77.54 │\n",
      "├────────────┼───────┼─────────────────┼────────────────┼────────────────┼────────────────┼───────────┼──────────┼──────────┼──────────┼───────────────────┤\n",
      "│      0.856 │ 0.856 │           0.856 │          0.074 │           0.66 │              1 │     0.856 │    0.075 │    0.655 │        1 │             77.54 │\n",
      "╘════════════╧═══════╧═════════════════╧════════════════╧════════════════╧════════════════╧═══════════╧══════════╧══════════╧══════════╧═══════════════════╛\n",
      "[BEST] Best performing model: resnet18\n"
     ]
    }
   ],
   "source": [
    "# Get results summary\n",
    "summary = evaluator.summary()\n",
    "\n",
    "# Convert summary to pandas DataFrame for better formatting\n",
    "df = pd.DataFrame(summary)\n",
    "\n",
    "# Format metrics to 3 decimal places\n",
    "df = df.round(3)\n",
    "\n",
    "# Display table using tabulate with modern formatting\n",
    "print(tabulate(\n",
    "    df, \n",
    "    headers='keys',\n",
    "    tablefmt='fancy_grid',\n",
    "    showindex=False\n",
    "))\n",
    "\n",
    "# Get best model\n",
    "best_model_name, best_model = minds.get_best_model(results)\n",
    "print(f\"[BEST] Best performing model: {best_model_name}\")"
   ]
  },
  {
   "cell_type": "markdown",
   "id": "23986822",
   "metadata": {},
   "source": [
    "## 7. Visualizations\n",
    "\n",
    "Let's create some visualizations to better understand the results:"
   ]
  },
  {
   "cell_type": "code",
   "execution_count": 8,
   "id": "b857e327",
   "metadata": {},
   "outputs": [
    {
     "name": "stdout",
     "output_type": "stream",
     "text": [
      "Creating performance comparison visualization...\n"
     ]
    },
    {
     "data": {
      "image/png": "[encoded data removed]",
      "text/plain": [
       "<Figure size 1000x600 with 1 Axes>"
      ]
     },
     "metadata": {},
     "output_type": "display_data"
    }
   ],
   "source": [
    "#Create a visualization folder\n",
    "os.makedirs('./visualizations', exist_ok=True)\n",
    "\n",
    "#Plot model performance comparison\n",
    "print(\"Creating performance comparison visualization...\")\n",
    "fig = plot_performance_comparison(results)\n",
    "fig.savefig(\"./visualizations/model_comparison.png\")"
   ]
  },
  {
   "cell_type": "markdown",
   "id": "6460690b",
   "metadata": {},
   "source": [
    "## 8. Export Best Model\n",
    "\n",
    "Finally, let's export the best performing model for deployment:"
   ]
  },
  {
   "cell_type": "code",
   "execution_count": 9,
   "id": "9a8bd833",
   "metadata": {},
   "outputs": [
    {
     "name": "stdout",
     "output_type": "stream",
     "text": [
      "Model exported to PyTorch format at: resnet18.pt\n",
      "[OK] Best model exported to: resnet18.pt\n"
     ]
    }
   ],
   "source": [
    "export_path = minds.export_model(best_model_name, format=\"pt\")\n",
    "print(f\"[OK] Best model exported to: {export_path}\")"
   ]
  }
 ],
 "metadata": {
  "kernelspec": {
   "display_name": "FewLearn",
   "language": "python",
   "name": "python3"
  },
  "language_info": {
   "codemirror_mode": {
    "name": "ipython",
    "version": 3
   },
   "file_extension": ".py",
   "mimetype": "text/x-python",
   "name": "python",
   "nbconvert_exporter": "python",
   "pygments_lexer": "ipython3",
   "version": "3.9.20"
  }
 },
 "nbformat": 4,
 "nbformat_minor": 5
}
